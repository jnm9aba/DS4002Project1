{
  "nbformat": 4,
  "nbformat_minor": 0,
  "metadata": {
    "kernelspec": {
      "display_name": "Python 3",
      "language": "python",
      "name": "python3"
    },
    "language_info": {
      "codemirror_mode": {
        "name": "ipython",
        "version": 3
      },
      "file_extension": ".py",
      "mimetype": "text/x-python",
      "name": "python",
      "nbconvert_exporter": "python",
      "pygments_lexer": "ipython3",
      "version": "3.7.0"
    },
    "colab": {
      "provenance": [],
      "collapsed_sections": []
    }
  },
  "cells": [
    {
      "cell_type": "markdown",
      "metadata": {
        "id": "s-RzEZEBR10z"
      },
      "source": [
        "# Reddit Graphs and Correlation"
      ]
    },
    {
      "cell_type": "code",
      "metadata": {
        "id": "ujitZUYeR101",
        "colab": {
          "base_uri": "https://localhost:8080/"
        },
        "outputId": "99bff291-6a47-41d9-db75-ed191fac6172"
      },
      "source": [
        "# Import Statements\n",
        "import os\n",
        "import numpy as np\n",
        "import matplotlib\n",
        "import matplotlib.pyplot as plt\n",
        "from scipy import stats\n",
        "import pandas as pd\n",
        "\n",
        "# Set Seed\n",
        "np.random.seed(42)\n",
        "\n",
        "reddit = pd.read_csv(\"100yearfulldata.csv\")\n",
        "reddit.info() \n",
        "\n",
        "reddit.isna().sum().sum() # There are no NAs in this dataset"
      ],
      "execution_count": 60,
      "outputs": [
        {
          "output_type": "stream",
          "name": "stdout",
          "text": [
            "<class 'pandas.core.frame.DataFrame'>\n",
            "RangeIndex: 500 entries, 0 to 499\n",
            "Data columns (total 10 columns):\n",
            " #   Column                   Non-Null Count  Dtype  \n",
            "---  ------                   --------------  -----  \n",
            " 0   Unnamed: 0               500 non-null    int64  \n",
            " 1   Title                    500 non-null    object \n",
            " 2   ID                       500 non-null    object \n",
            " 3   Number of Upvotes        500 non-null    int64  \n",
            " 4   Percent Upvoted          500 non-null    float64\n",
            " 5   Number of Comments       500 non-null    int64  \n",
            " 6   Link                     500 non-null    object \n",
            " 7   Upvote to Comment Ratio  500 non-null    float64\n",
            " 8   Controversy Rating       500 non-null    float64\n",
            " 9   Subreddit                500 non-null    object \n",
            "dtypes: float64(3), int64(3), object(4)\n",
            "memory usage: 39.2+ KB\n"
          ]
        },
        {
          "output_type": "execute_result",
          "data": {
            "text/plain": [
              "0"
            ]
          },
          "metadata": {},
          "execution_count": 60
        }
      ]
    },
    {
      "cell_type": "code",
      "source": [
        "reddit.describe()"
      ],
      "metadata": {
        "colab": {
          "base_uri": "https://localhost:8080/",
          "height": 344
        },
        "id": "3C260d83E4xV",
        "outputId": "b9309424-519f-47ee-e0b6-07e238605bfa"
      },
      "execution_count": 61,
      "outputs": [
        {
          "output_type": "execute_result",
          "data": {
            "text/plain": [
              "       Unnamed: 0  Number of Upvotes  Percent Upvoted  Number of Comments  \\\n",
              "count  500.000000         500.000000        500.00000          500.000000   \n",
              "mean   250.500000       58181.792000          0.87090         4046.328000   \n",
              "std    144.481833       48080.605299          0.08524         5781.394379   \n",
              "min      1.000000         424.000000          0.55000            9.000000   \n",
              "25%    125.750000        4476.250000          0.82000          303.750000   \n",
              "50%    250.500000       76879.000000          0.89000         3228.000000   \n",
              "75%    375.250000       92347.750000          0.94000         5710.750000   \n",
              "max    500.000000      200149.000000          1.00000        73810.000000   \n",
              "\n",
              "       Upvote to Comment Ratio  Controversy Rating  \n",
              "count               500.000000          500.000000  \n",
              "mean                 17.591900            0.100132  \n",
              "std                  10.708726            0.103166  \n",
              "min                   1.170000            0.017358  \n",
              "25%                   9.635000            0.049688  \n",
              "50%                  15.525000            0.073687  \n",
              "75%                  22.735000            0.121574  \n",
              "max                  64.730000            1.554002  "
            ],
            "text/html": [
              "\n",
              "  <div id=\"df-cf183257-cc27-4631-be5d-6c7278c79ab6\">\n",
              "    <div class=\"colab-df-container\">\n",
              "      <div>\n",
              "<style scoped>\n",
              "    .dataframe tbody tr th:only-of-type {\n",
              "        vertical-align: middle;\n",
              "    }\n",
              "\n",
              "    .dataframe tbody tr th {\n",
              "        vertical-align: top;\n",
              "    }\n",
              "\n",
              "    .dataframe thead th {\n",
              "        text-align: right;\n",
              "    }\n",
              "</style>\n",
              "<table border=\"1\" class=\"dataframe\">\n",
              "  <thead>\n",
              "    <tr style=\"text-align: right;\">\n",
              "      <th></th>\n",
              "      <th>Unnamed: 0</th>\n",
              "      <th>Number of Upvotes</th>\n",
              "      <th>Percent Upvoted</th>\n",
              "      <th>Number of Comments</th>\n",
              "      <th>Upvote to Comment Ratio</th>\n",
              "      <th>Controversy Rating</th>\n",
              "    </tr>\n",
              "  </thead>\n",
              "  <tbody>\n",
              "    <tr>\n",
              "      <th>count</th>\n",
              "      <td>500.000000</td>\n",
              "      <td>500.000000</td>\n",
              "      <td>500.00000</td>\n",
              "      <td>500.000000</td>\n",
              "      <td>500.000000</td>\n",
              "      <td>500.000000</td>\n",
              "    </tr>\n",
              "    <tr>\n",
              "      <th>mean</th>\n",
              "      <td>250.500000</td>\n",
              "      <td>58181.792000</td>\n",
              "      <td>0.87090</td>\n",
              "      <td>4046.328000</td>\n",
              "      <td>17.591900</td>\n",
              "      <td>0.100132</td>\n",
              "    </tr>\n",
              "    <tr>\n",
              "      <th>std</th>\n",
              "      <td>144.481833</td>\n",
              "      <td>48080.605299</td>\n",
              "      <td>0.08524</td>\n",
              "      <td>5781.394379</td>\n",
              "      <td>10.708726</td>\n",
              "      <td>0.103166</td>\n",
              "    </tr>\n",
              "    <tr>\n",
              "      <th>min</th>\n",
              "      <td>1.000000</td>\n",
              "      <td>424.000000</td>\n",
              "      <td>0.55000</td>\n",
              "      <td>9.000000</td>\n",
              "      <td>1.170000</td>\n",
              "      <td>0.017358</td>\n",
              "    </tr>\n",
              "    <tr>\n",
              "      <th>25%</th>\n",
              "      <td>125.750000</td>\n",
              "      <td>4476.250000</td>\n",
              "      <td>0.82000</td>\n",
              "      <td>303.750000</td>\n",
              "      <td>9.635000</td>\n",
              "      <td>0.049688</td>\n",
              "    </tr>\n",
              "    <tr>\n",
              "      <th>50%</th>\n",
              "      <td>250.500000</td>\n",
              "      <td>76879.000000</td>\n",
              "      <td>0.89000</td>\n",
              "      <td>3228.000000</td>\n",
              "      <td>15.525000</td>\n",
              "      <td>0.073687</td>\n",
              "    </tr>\n",
              "    <tr>\n",
              "      <th>75%</th>\n",
              "      <td>375.250000</td>\n",
              "      <td>92347.750000</td>\n",
              "      <td>0.94000</td>\n",
              "      <td>5710.750000</td>\n",
              "      <td>22.735000</td>\n",
              "      <td>0.121574</td>\n",
              "    </tr>\n",
              "    <tr>\n",
              "      <th>max</th>\n",
              "      <td>500.000000</td>\n",
              "      <td>200149.000000</td>\n",
              "      <td>1.00000</td>\n",
              "      <td>73810.000000</td>\n",
              "      <td>64.730000</td>\n",
              "      <td>1.554002</td>\n",
              "    </tr>\n",
              "  </tbody>\n",
              "</table>\n",
              "</div>\n",
              "      <button class=\"colab-df-convert\" onclick=\"convertToInteractive('df-cf183257-cc27-4631-be5d-6c7278c79ab6')\"\n",
              "              title=\"Convert this dataframe to an interactive table.\"\n",
              "              style=\"display:none;\">\n",
              "        \n",
              "  <svg xmlns=\"http://www.w3.org/2000/svg\" height=\"24px\"viewBox=\"0 0 24 24\"\n",
              "       width=\"24px\">\n",
              "    <path d=\"M0 0h24v24H0V0z\" fill=\"none\"/>\n",
              "    <path d=\"M18.56 5.44l.94 2.06.94-2.06 2.06-.94-2.06-.94-.94-2.06-.94 2.06-2.06.94zm-11 1L8.5 8.5l.94-2.06 2.06-.94-2.06-.94L8.5 2.5l-.94 2.06-2.06.94zm10 10l.94 2.06.94-2.06 2.06-.94-2.06-.94-.94-2.06-.94 2.06-2.06.94z\"/><path d=\"M17.41 7.96l-1.37-1.37c-.4-.4-.92-.59-1.43-.59-.52 0-1.04.2-1.43.59L10.3 9.45l-7.72 7.72c-.78.78-.78 2.05 0 2.83L4 21.41c.39.39.9.59 1.41.59.51 0 1.02-.2 1.41-.59l7.78-7.78 2.81-2.81c.8-.78.8-2.07 0-2.86zM5.41 20L4 18.59l7.72-7.72 1.47 1.35L5.41 20z\"/>\n",
              "  </svg>\n",
              "      </button>\n",
              "      \n",
              "  <style>\n",
              "    .colab-df-container {\n",
              "      display:flex;\n",
              "      flex-wrap:wrap;\n",
              "      gap: 12px;\n",
              "    }\n",
              "\n",
              "    .colab-df-convert {\n",
              "      background-color: #E8F0FE;\n",
              "      border: none;\n",
              "      border-radius: 50%;\n",
              "      cursor: pointer;\n",
              "      display: none;\n",
              "      fill: #1967D2;\n",
              "      height: 32px;\n",
              "      padding: 0 0 0 0;\n",
              "      width: 32px;\n",
              "    }\n",
              "\n",
              "    .colab-df-convert:hover {\n",
              "      background-color: #E2EBFA;\n",
              "      box-shadow: 0px 1px 2px rgba(60, 64, 67, 0.3), 0px 1px 3px 1px rgba(60, 64, 67, 0.15);\n",
              "      fill: #174EA6;\n",
              "    }\n",
              "\n",
              "    [theme=dark] .colab-df-convert {\n",
              "      background-color: #3B4455;\n",
              "      fill: #D2E3FC;\n",
              "    }\n",
              "\n",
              "    [theme=dark] .colab-df-convert:hover {\n",
              "      background-color: #434B5C;\n",
              "      box-shadow: 0px 1px 3px 1px rgba(0, 0, 0, 0.15);\n",
              "      filter: drop-shadow(0px 1px 2px rgba(0, 0, 0, 0.3));\n",
              "      fill: #FFFFFF;\n",
              "    }\n",
              "  </style>\n",
              "\n",
              "      <script>\n",
              "        const buttonEl =\n",
              "          document.querySelector('#df-cf183257-cc27-4631-be5d-6c7278c79ab6 button.colab-df-convert');\n",
              "        buttonEl.style.display =\n",
              "          google.colab.kernel.accessAllowed ? 'block' : 'none';\n",
              "\n",
              "        async function convertToInteractive(key) {\n",
              "          const element = document.querySelector('#df-cf183257-cc27-4631-be5d-6c7278c79ab6');\n",
              "          const dataTable =\n",
              "            await google.colab.kernel.invokeFunction('convertToInteractive',\n",
              "                                                     [key], {});\n",
              "          if (!dataTable) return;\n",
              "\n",
              "          const docLinkHtml = 'Like what you see? Visit the ' +\n",
              "            '<a target=\"_blank\" href=https://colab.research.google.com/notebooks/data_table.ipynb>data table notebook</a>'\n",
              "            + ' to learn more about interactive tables.';\n",
              "          element.innerHTML = '';\n",
              "          dataTable['output_type'] = 'display_data';\n",
              "          await google.colab.output.renderOutput(dataTable, element);\n",
              "          const docLink = document.createElement('div');\n",
              "          docLink.innerHTML = docLinkHtml;\n",
              "          element.appendChild(docLink);\n",
              "        }\n",
              "      </script>\n",
              "    </div>\n",
              "  </div>\n",
              "  "
            ]
          },
          "metadata": {},
          "execution_count": 61
        }
      ]
    },
    {
      "cell_type": "code",
      "source": [
        "# add a better measure for popularity that is total number of interactions (upvotes or downvotes)\n",
        "reddit['Interactions'] = reddit['Number of Upvotes']/reddit['Percent Upvoted']"
      ],
      "metadata": {
        "id": "Xzug6W0S_i8h"
      },
      "execution_count": 62,
      "outputs": []
    },
    {
      "cell_type": "code",
      "source": [
        "reddit.describe()"
      ],
      "metadata": {
        "colab": {
          "base_uri": "https://localhost:8080/",
          "height": 362
        },
        "id": "dg0rgfNUAFwB",
        "outputId": "55928734-0565-421a-8117-b979ecdcc70d"
      },
      "execution_count": 63,
      "outputs": [
        {
          "output_type": "execute_result",
          "data": {
            "text/plain": [
              "       Unnamed: 0  Number of Upvotes  Percent Upvoted  Number of Comments  \\\n",
              "count  500.000000         500.000000        500.00000          500.000000   \n",
              "mean   250.500000       58181.792000          0.87090         4046.328000   \n",
              "std    144.481833       48080.605299          0.08524         5781.394379   \n",
              "min      1.000000         424.000000          0.55000            9.000000   \n",
              "25%    125.750000        4476.250000          0.82000          303.750000   \n",
              "50%    250.500000       76879.000000          0.89000         3228.000000   \n",
              "75%    375.250000       92347.750000          0.94000         5710.750000   \n",
              "max    500.000000      200149.000000          1.00000        73810.000000   \n",
              "\n",
              "       Upvote to Comment Ratio  Controversy Rating   Interactions  \n",
              "count               500.000000          500.000000     500.000000  \n",
              "mean                 17.591900            0.100132   67012.580970  \n",
              "std                  10.708726            0.103166   55279.670698  \n",
              "min                   1.170000            0.017358     433.000000  \n",
              "25%                   9.635000            0.049688    5865.924658  \n",
              "50%                  15.525000            0.073687   87560.062227  \n",
              "75%                  22.735000            0.121574  105307.021032  \n",
              "max                  64.730000            1.554002  246714.285714  "
            ],
            "text/html": [
              "\n",
              "  <div id=\"df-a358741d-a20a-42ab-8dce-73b2b2e63172\">\n",
              "    <div class=\"colab-df-container\">\n",
              "      <div>\n",
              "<style scoped>\n",
              "    .dataframe tbody tr th:only-of-type {\n",
              "        vertical-align: middle;\n",
              "    }\n",
              "\n",
              "    .dataframe tbody tr th {\n",
              "        vertical-align: top;\n",
              "    }\n",
              "\n",
              "    .dataframe thead th {\n",
              "        text-align: right;\n",
              "    }\n",
              "</style>\n",
              "<table border=\"1\" class=\"dataframe\">\n",
              "  <thead>\n",
              "    <tr style=\"text-align: right;\">\n",
              "      <th></th>\n",
              "      <th>Unnamed: 0</th>\n",
              "      <th>Number of Upvotes</th>\n",
              "      <th>Percent Upvoted</th>\n",
              "      <th>Number of Comments</th>\n",
              "      <th>Upvote to Comment Ratio</th>\n",
              "      <th>Controversy Rating</th>\n",
              "      <th>Interactions</th>\n",
              "    </tr>\n",
              "  </thead>\n",
              "  <tbody>\n",
              "    <tr>\n",
              "      <th>count</th>\n",
              "      <td>500.000000</td>\n",
              "      <td>500.000000</td>\n",
              "      <td>500.00000</td>\n",
              "      <td>500.000000</td>\n",
              "      <td>500.000000</td>\n",
              "      <td>500.000000</td>\n",
              "      <td>500.000000</td>\n",
              "    </tr>\n",
              "    <tr>\n",
              "      <th>mean</th>\n",
              "      <td>250.500000</td>\n",
              "      <td>58181.792000</td>\n",
              "      <td>0.87090</td>\n",
              "      <td>4046.328000</td>\n",
              "      <td>17.591900</td>\n",
              "      <td>0.100132</td>\n",
              "      <td>67012.580970</td>\n",
              "    </tr>\n",
              "    <tr>\n",
              "      <th>std</th>\n",
              "      <td>144.481833</td>\n",
              "      <td>48080.605299</td>\n",
              "      <td>0.08524</td>\n",
              "      <td>5781.394379</td>\n",
              "      <td>10.708726</td>\n",
              "      <td>0.103166</td>\n",
              "      <td>55279.670698</td>\n",
              "    </tr>\n",
              "    <tr>\n",
              "      <th>min</th>\n",
              "      <td>1.000000</td>\n",
              "      <td>424.000000</td>\n",
              "      <td>0.55000</td>\n",
              "      <td>9.000000</td>\n",
              "      <td>1.170000</td>\n",
              "      <td>0.017358</td>\n",
              "      <td>433.000000</td>\n",
              "    </tr>\n",
              "    <tr>\n",
              "      <th>25%</th>\n",
              "      <td>125.750000</td>\n",
              "      <td>4476.250000</td>\n",
              "      <td>0.82000</td>\n",
              "      <td>303.750000</td>\n",
              "      <td>9.635000</td>\n",
              "      <td>0.049688</td>\n",
              "      <td>5865.924658</td>\n",
              "    </tr>\n",
              "    <tr>\n",
              "      <th>50%</th>\n",
              "      <td>250.500000</td>\n",
              "      <td>76879.000000</td>\n",
              "      <td>0.89000</td>\n",
              "      <td>3228.000000</td>\n",
              "      <td>15.525000</td>\n",
              "      <td>0.073687</td>\n",
              "      <td>87560.062227</td>\n",
              "    </tr>\n",
              "    <tr>\n",
              "      <th>75%</th>\n",
              "      <td>375.250000</td>\n",
              "      <td>92347.750000</td>\n",
              "      <td>0.94000</td>\n",
              "      <td>5710.750000</td>\n",
              "      <td>22.735000</td>\n",
              "      <td>0.121574</td>\n",
              "      <td>105307.021032</td>\n",
              "    </tr>\n",
              "    <tr>\n",
              "      <th>max</th>\n",
              "      <td>500.000000</td>\n",
              "      <td>200149.000000</td>\n",
              "      <td>1.00000</td>\n",
              "      <td>73810.000000</td>\n",
              "      <td>64.730000</td>\n",
              "      <td>1.554002</td>\n",
              "      <td>246714.285714</td>\n",
              "    </tr>\n",
              "  </tbody>\n",
              "</table>\n",
              "</div>\n",
              "      <button class=\"colab-df-convert\" onclick=\"convertToInteractive('df-a358741d-a20a-42ab-8dce-73b2b2e63172')\"\n",
              "              title=\"Convert this dataframe to an interactive table.\"\n",
              "              style=\"display:none;\">\n",
              "        \n",
              "  <svg xmlns=\"http://www.w3.org/2000/svg\" height=\"24px\"viewBox=\"0 0 24 24\"\n",
              "       width=\"24px\">\n",
              "    <path d=\"M0 0h24v24H0V0z\" fill=\"none\"/>\n",
              "    <path d=\"M18.56 5.44l.94 2.06.94-2.06 2.06-.94-2.06-.94-.94-2.06-.94 2.06-2.06.94zm-11 1L8.5 8.5l.94-2.06 2.06-.94-2.06-.94L8.5 2.5l-.94 2.06-2.06.94zm10 10l.94 2.06.94-2.06 2.06-.94-2.06-.94-.94-2.06-.94 2.06-2.06.94z\"/><path d=\"M17.41 7.96l-1.37-1.37c-.4-.4-.92-.59-1.43-.59-.52 0-1.04.2-1.43.59L10.3 9.45l-7.72 7.72c-.78.78-.78 2.05 0 2.83L4 21.41c.39.39.9.59 1.41.59.51 0 1.02-.2 1.41-.59l7.78-7.78 2.81-2.81c.8-.78.8-2.07 0-2.86zM5.41 20L4 18.59l7.72-7.72 1.47 1.35L5.41 20z\"/>\n",
              "  </svg>\n",
              "      </button>\n",
              "      \n",
              "  <style>\n",
              "    .colab-df-container {\n",
              "      display:flex;\n",
              "      flex-wrap:wrap;\n",
              "      gap: 12px;\n",
              "    }\n",
              "\n",
              "    .colab-df-convert {\n",
              "      background-color: #E8F0FE;\n",
              "      border: none;\n",
              "      border-radius: 50%;\n",
              "      cursor: pointer;\n",
              "      display: none;\n",
              "      fill: #1967D2;\n",
              "      height: 32px;\n",
              "      padding: 0 0 0 0;\n",
              "      width: 32px;\n",
              "    }\n",
              "\n",
              "    .colab-df-convert:hover {\n",
              "      background-color: #E2EBFA;\n",
              "      box-shadow: 0px 1px 2px rgba(60, 64, 67, 0.3), 0px 1px 3px 1px rgba(60, 64, 67, 0.15);\n",
              "      fill: #174EA6;\n",
              "    }\n",
              "\n",
              "    [theme=dark] .colab-df-convert {\n",
              "      background-color: #3B4455;\n",
              "      fill: #D2E3FC;\n",
              "    }\n",
              "\n",
              "    [theme=dark] .colab-df-convert:hover {\n",
              "      background-color: #434B5C;\n",
              "      box-shadow: 0px 1px 3px 1px rgba(0, 0, 0, 0.15);\n",
              "      filter: drop-shadow(0px 1px 2px rgba(0, 0, 0, 0.3));\n",
              "      fill: #FFFFFF;\n",
              "    }\n",
              "  </style>\n",
              "\n",
              "      <script>\n",
              "        const buttonEl =\n",
              "          document.querySelector('#df-a358741d-a20a-42ab-8dce-73b2b2e63172 button.colab-df-convert');\n",
              "        buttonEl.style.display =\n",
              "          google.colab.kernel.accessAllowed ? 'block' : 'none';\n",
              "\n",
              "        async function convertToInteractive(key) {\n",
              "          const element = document.querySelector('#df-a358741d-a20a-42ab-8dce-73b2b2e63172');\n",
              "          const dataTable =\n",
              "            await google.colab.kernel.invokeFunction('convertToInteractive',\n",
              "                                                     [key], {});\n",
              "          if (!dataTable) return;\n",
              "\n",
              "          const docLinkHtml = 'Like what you see? Visit the ' +\n",
              "            '<a target=\"_blank\" href=https://colab.research.google.com/notebooks/data_table.ipynb>data table notebook</a>'\n",
              "            + ' to learn more about interactive tables.';\n",
              "          element.innerHTML = '';\n",
              "          dataTable['output_type'] = 'display_data';\n",
              "          await google.colab.output.renderOutput(dataTable, element);\n",
              "          const docLink = document.createElement('div');\n",
              "          docLink.innerHTML = docLinkHtml;\n",
              "          element.appendChild(docLink);\n",
              "        }\n",
              "      </script>\n",
              "    </div>\n",
              "  </div>\n",
              "  "
            ]
          },
          "metadata": {},
          "execution_count": 63
        }
      ]
    },
    {
      "cell_type": "code",
      "metadata": {
        "id": "KI2IIJdHR104"
      },
      "source": [
        "# import scatter matrix\n",
        "from pandas.plotting import scatter_matrix\n"
      ],
      "execution_count": 64,
      "outputs": []
    },
    {
      "cell_type": "code",
      "source": [
        "# Popularity as Number of Upvotes\n",
        "attributes = ['Number of Upvotes', 'Controversy Rating']\n",
        "scatter_matrix(reddit[attributes], figsize=(15, 12))\n",
        "# save_fig(\"scatter_matrix_plot\")"
      ],
      "metadata": {
        "id": "K-wsyv9yjIhU",
        "colab": {
          "base_uri": "https://localhost:8080/",
          "height": 823
        },
        "outputId": "180847a0-7002-433d-ca60-735d2698def6"
      },
      "execution_count": 65,
      "outputs": [
        {
          "output_type": "execute_result",
          "data": {
            "text/plain": [
              "array([[<matplotlib.axes._subplots.AxesSubplot object at 0x7f93d47563d0>,\n",
              "        <matplotlib.axes._subplots.AxesSubplot object at 0x7f93d443fd10>],\n",
              "       [<matplotlib.axes._subplots.AxesSubplot object at 0x7f93d43fd350>,\n",
              "        <matplotlib.axes._subplots.AxesSubplot object at 0x7f93d43b3950>]],\n",
              "      dtype=object)"
            ]
          },
          "metadata": {},
          "execution_count": 65
        },
        {
          "output_type": "display_data",
          "data": {
            "text/plain": [
              "<Figure size 1080x864 with 4 Axes>"
            ],
            "image/png": "[encoded data removed]"
          },
          "metadata": {
            "needs_background": "light"
          }
        }
      ]
    },
    {
      "cell_type": "code",
      "source": [
        "d = np.polyfit(reddit['Number of Upvotes'],reddit['Controversy Rating'],1)\n",
        "f = np.poly1d(d)"
      ],
      "metadata": {
        "id": "ulJHSzAd-X4N"
      },
      "execution_count": 66,
      "outputs": []
    },
    {
      "cell_type": "code",
      "source": [
        "reddit.insert(6,'NReg',f(reddit['Number of Upvotes']))"
      ],
      "metadata": {
        "id": "jo2Q4MGU-vpl"
      },
      "execution_count": 67,
      "outputs": []
    },
    {
      "cell_type": "code",
      "source": [
        "# Plot Controversy Rating vs Number of Upvotes\n",
        "ax=reddit.plot.scatter(x='Number of Upvotes', y='Controversy Rating')\n",
        "reddit.plot(x='Number of Upvotes',y='NReg',color='Red',legend=False,ax=ax)"
      ],
      "metadata": {
        "colab": {
          "base_uri": "https://localhost:8080/",
          "height": 297
        },
        "id": "Pp8tQo4D--0Y",
        "outputId": "b7551e63-9634-4373-ada9-4f2ab04ea44a"
      },
      "execution_count": 68,
      "outputs": [
        {
          "output_type": "execute_result",
          "data": {
            "text/plain": [
              "<matplotlib.axes._subplots.AxesSubplot at 0x7f93d426e510>"
            ]
          },
          "metadata": {},
          "execution_count": 68
        },
        {
          "output_type": "display_data",
          "data": {
            "text/plain": [
              "<Figure size 432x288 with 1 Axes>"
            ],
            "image/png": "[encoded data removed]"
          },
          "metadata": {
            "needs_background": "light"
          }
        }
      ]
    },
    {
      "cell_type": "code",
      "source": [
        "# Looking at correlation matrix for Number of Upvotes\n",
        "corr_matrix = reddit.corr()\n",
        "corr_matrix.shape\n",
        "corr_matrix['Number of Upvotes'].sort_values(ascending=False)"
      ],
      "metadata": {
        "id": "jkSjbFOQNiyr",
        "colab": {
          "base_uri": "https://localhost:8080/"
        },
        "outputId": "4bd19f2a-9f89-47af-e2cf-fcd58f750342"
      },
      "execution_count": 69,
      "outputs": [
        {
          "output_type": "execute_result",
          "data": {
            "text/plain": [
              "Number of Upvotes          1.000000\n",
              "Interactions               0.993844\n",
              "Unnamed: 0                 0.747538\n",
              "Number of Comments         0.569310\n",
              "Upvote to Comment Ratio    0.300299\n",
              "Percent Upvoted            0.024528\n",
              "Controversy Rating        -0.211251\n",
              "NReg                      -1.000000\n",
              "Name: Number of Upvotes, dtype: float64"
            ]
          },
          "metadata": {},
          "execution_count": 69
        }
      ]
    },
    {
      "cell_type": "code",
      "source": [
        "# Popularity as Total Number of Interactions (Num Upvotes/Percent Upvotes)\n",
        "attributes = ['Interactions', 'Controversy Rating']\n",
        "scatter_matrix(reddit[attributes], figsize=(15, 12))\n",
        "# save_fig(\"scatter_matrix_plot\")"
      ],
      "metadata": {
        "colab": {
          "base_uri": "https://localhost:8080/",
          "height": 823
        },
        "id": "B1B8KkLmAkBe",
        "outputId": "20f547f4-ee73-4bf7-8420-33d800181980"
      },
      "execution_count": 70,
      "outputs": [
        {
          "output_type": "execute_result",
          "data": {
            "text/plain": [
              "array([[<matplotlib.axes._subplots.AxesSubplot object at 0x7f93d41f6b90>,\n",
              "        <matplotlib.axes._subplots.AxesSubplot object at 0x7f93d41afc90>],\n",
              "       [<matplotlib.axes._subplots.AxesSubplot object at 0x7f93d41712d0>,\n",
              "        <matplotlib.axes._subplots.AxesSubplot object at 0x7f93d412b610>]],\n",
              "      dtype=object)"
            ]
          },
          "metadata": {},
          "execution_count": 70
        },
        {
          "output_type": "display_data",
          "data": {
            "text/plain": [
              "<Figure size 1080x864 with 4 Axes>"
            ],
            "image/png": "[encoded data removed]"
          },
          "metadata": {
            "needs_background": "light"
          }
        }
      ]
    },
    {
      "cell_type": "code",
      "source": [
        "d = np.polyfit(reddit['Interactions'],reddit['Controversy Rating'],1)\n",
        "f = np.poly1d(d)"
      ],
      "metadata": {
        "id": "6X_5PzWVBA2y"
      },
      "execution_count": 71,
      "outputs": []
    },
    {
      "cell_type": "code",
      "source": [
        "reddit.insert(6,'IReg',f(reddit['Interactions']))"
      ],
      "metadata": {
        "id": "XrdzVnHNBDJ9"
      },
      "execution_count": 72,
      "outputs": []
    },
    {
      "cell_type": "code",
      "source": [
        "# Plot Controversy Rating vs Interactions\n",
        "ax=reddit.plot.scatter(x='Interactions', y='Controversy Rating')\n",
        "reddit.plot(x='Interactions',y='IReg',color='Red',legend=False,ax=ax)"
      ],
      "metadata": {
        "colab": {
          "base_uri": "https://localhost:8080/",
          "height": 297
        },
        "id": "xS8YydY3BFnA",
        "outputId": "4216af24-8613-4153-c6ce-3e39eb03ffed"
      },
      "execution_count": 73,
      "outputs": [
        {
          "output_type": "execute_result",
          "data": {
            "text/plain": [
              "<matplotlib.axes._subplots.AxesSubplot at 0x7f93d41fac90>"
            ]
          },
          "metadata": {},
          "execution_count": 73
        },
        {
          "output_type": "display_data",
          "data": {
            "text/plain": [
              "<Figure size 432x288 with 1 Axes>"
            ],
            "image/png": "[encoded data removed]"
          },
          "metadata": {
            "needs_background": "light"
          }
        }
      ]
    },
    {
      "cell_type": "code",
      "source": [
        "# Looking at correlation matrix for Interactions\n",
        "corr_matrix['Interactions'].sort_values(ascending=False)"
      ],
      "metadata": {
        "colab": {
          "base_uri": "https://localhost:8080/"
        },
        "id": "Aw3ARiv_Din_",
        "outputId": "b69d83d9-5975-4284-aa25-bc148f046a68"
      },
      "execution_count": 74,
      "outputs": [
        {
          "output_type": "execute_result",
          "data": {
            "text/plain": [
              "Interactions               1.000000\n",
              "Number of Upvotes          0.993844\n",
              "Unnamed: 0                 0.729925\n",
              "Number of Comments         0.598909\n",
              "Upvote to Comment Ratio    0.264084\n",
              "Percent Upvoted           -0.038163\n",
              "Controversy Rating        -0.177935\n",
              "NReg                      -0.993844\n",
              "Name: Interactions, dtype: float64"
            ]
          },
          "metadata": {},
          "execution_count": 74
        }
      ]
    },
    {
      "cell_type": "code",
      "source": [
        "# Looking at correlation matrix for Controversy Rating\n",
        "corr_matrix['Controversy Rating'].sort_values(ascending=False)"
      ],
      "metadata": {
        "colab": {
          "base_uri": "https://localhost:8080/"
        },
        "id": "tFs-4e4nFVga",
        "outputId": "a1ea6058-0607-47fb-a358-8d8bce8d612d"
      },
      "execution_count": 75,
      "outputs": [
        {
          "output_type": "execute_result",
          "data": {
            "text/plain": [
              "Controversy Rating         1.000000\n",
              "Number of Comments         0.389374\n",
              "NReg                       0.211251\n",
              "Interactions              -0.177935\n",
              "Number of Upvotes         -0.211251\n",
              "Unnamed: 0                -0.280291\n",
              "Percent Upvoted           -0.365886\n",
              "Upvote to Comment Ratio   -0.544903\n",
              "Name: Controversy Rating, dtype: float64"
            ]
          },
          "metadata": {},
          "execution_count": 75
        }
      ]
    },
    {
      "cell_type": "code",
      "source": [
        "from dataclasses import dataclass\n",
        "# Used Geeks for Geeks code to remove IQR outliers after reviewing our graphs: \n",
        "#https://www.geeksforgeeks.org/detect-and-remove-the-outliers-using-python/\n",
        "\n",
        "def remove_outliers(data):\n",
        "  Q1 = np.percentile(data['Controversy Rating'], 25,\n",
        "                    interpolation = 'midpoint')\n",
        "  Q3 = np.percentile(data['Controversy Rating'], 75,\n",
        "                    interpolation = 'midpoint')\n",
        "  IQR = Q3 - Q1\n",
        " \n",
        "  # Upper bound\n",
        "  upper = np.where(data['Controversy Rating'] >= (Q3+1.5*IQR))\n",
        "  # Lower bound\n",
        "  lower = np.where(data['Controversy Rating'] <= (Q1-1.5*IQR))\n",
        "\n",
        "  data.drop(upper[0], inplace = True)\n",
        "  data.drop(lower[0], inplace = True)\n",
        "\n",
        "  return data\n",
        "\n",
        "new_reddit = reddit\n",
        "reddit_new = remove_outliers(new_reddit)\n"
      ],
      "metadata": {
        "id": "-F1WrKpBI7XO"
      },
      "execution_count": 76,
      "outputs": []
    },
    {
      "cell_type": "code",
      "source": [
        "d = np.polyfit(reddit_new['Interactions'],reddit_new['Controversy Rating'],1)\n",
        "f = np.poly1d(d)"
      ],
      "metadata": {
        "id": "NqzyRskdIN4E"
      },
      "execution_count": 77,
      "outputs": []
    },
    {
      "cell_type": "code",
      "source": [
        "reddit_new.insert(6,'FReg',f(reddit_new['Interactions']))"
      ],
      "metadata": {
        "id": "vGWul5hKIN4E"
      },
      "execution_count": 78,
      "outputs": []
    },
    {
      "cell_type": "code",
      "source": [
        "# Plot Controversy Rating vs Interactions after removing outliers\n",
        "ax=reddit.plot.scatter(x='Interactions', y='Controversy Rating')\n",
        "reddit_new.plot(x='Interactions',y='FReg',color='Red',legend=False,ax=ax)"
      ],
      "metadata": {
        "colab": {
          "base_uri": "https://localhost:8080/",
          "height": 297
        },
        "id": "CmbKgJRGIN4F",
        "outputId": "daf1f4d5-950a-46ad-a0c5-51bb458fb551"
      },
      "execution_count": 79,
      "outputs": [
        {
          "output_type": "execute_result",
          "data": {
            "text/plain": [
              "<matplotlib.axes._subplots.AxesSubplot at 0x7f93d4456390>"
            ]
          },
          "metadata": {},
          "execution_count": 79
        },
        {
          "output_type": "display_data",
          "data": {
            "text/plain": [
              "<Figure size 432x288 with 1 Axes>"
            ],
            "image/png": "[encoded data removed]"
          },
          "metadata": {
            "needs_background": "light"
          }
        }
      ]
    },
    {
      "cell_type": "code",
      "source": [
        "# Looking at new correlation matrix for interactions\n",
        "corr_matrix = reddit_new.corr()\n",
        "corr_matrix.shape\n",
        "\n",
        "corr_matrix['Interactions'].sort_values(ascending=False)"
      ],
      "metadata": {
        "colab": {
          "base_uri": "https://localhost:8080/"
        },
        "id": "mnnEhmjeOHZb",
        "outputId": "f4a81368-3252-4c58-ac40-449bc1824f21"
      },
      "execution_count": 80,
      "outputs": [
        {
          "output_type": "execute_result",
          "data": {
            "text/plain": [
              "Interactions               1.000000\n",
              "Number of Upvotes          0.994056\n",
              "Number of Comments         0.789153\n",
              "Unnamed: 0                 0.734137\n",
              "Upvote to Comment Ratio    0.257045\n",
              "Percent Upvoted           -0.075766\n",
              "Controversy Rating        -0.315129\n",
              "NReg                      -0.994056\n",
              "FReg                      -1.000000\n",
              "IReg                      -1.000000\n",
              "Name: Interactions, dtype: float64"
            ]
          },
          "metadata": {},
          "execution_count": 80
        }
      ]
    },
    {
      "cell_type": "markdown",
      "source": [
        "After creating a better-encompassing variable for post popularity and removing controversy rating outliers, we can see that the correlation coefficient between controversy rating and number of interactions is -.315"
      ],
      "metadata": {
        "id": "xyEGwMJCOKS8"
      }
    },
    {
      "cell_type": "code",
      "source": [
        "conservative = pd.read_csv(\"conservative100year.csv\")\n",
        "liberal = pd.read_csv(\"liberal100year.csv\")\n",
        "news = pd.read_csv(\"news100year.csv\")\n",
        "politics = pd.read_csv(\"politics100year.csv\")\n",
        "worldnews = pd.read_csv(\"worldnews100year.csv\")"
      ],
      "metadata": {
        "id": "DC6bv2qTsWm7"
      },
      "execution_count": 81,
      "outputs": []
    },
    {
      "cell_type": "code",
      "source": [
        "conservative['Interactions'] = conservative['Number of Upvotes']/conservative['Percent Upvoted']\n",
        "liberal['Interactions'] = liberal['Number of Upvotes']/liberal['Percent Upvoted']\n",
        "news['Interactions'] = news['Number of Upvotes']/news['Percent Upvoted']\n",
        "politics['Interactions'] = politics['Number of Upvotes']/politics['Percent Upvoted']\n",
        "worldnews['Interactions'] = worldnews['Number of Upvotes']/worldnews['Percent Upvoted']"
      ],
      "metadata": {
        "id": "cCZ2MeUBtD6Y"
      },
      "execution_count": 82,
      "outputs": []
    },
    {
      "cell_type": "markdown",
      "source": [
        "Splitting correlations up by individual subreddits for better clarity:"
      ],
      "metadata": {
        "id": "9ISWH-d_JdDS"
      }
    },
    {
      "cell_type": "code",
      "source": [
        "corr_matrix_c = conservative.corr()\n",
        "corr_matrix_c['Interactions'].sort_values(ascending=False)"
      ],
      "metadata": {
        "id": "VolZoZhhtzev",
        "colab": {
          "base_uri": "https://localhost:8080/"
        },
        "outputId": "6aa9ec87-0fe7-480e-c5b0-66ecdfbaede7"
      },
      "execution_count": 83,
      "outputs": [
        {
          "output_type": "execute_result",
          "data": {
            "text/plain": [
              "Interactions               1.000000\n",
              "Number of Upvotes          0.984054\n",
              "Number of Comments         0.591045\n",
              "Controversy Rating         0.123383\n",
              "Upvote to Comment Ratio   -0.066800\n",
              "Percent Upvoted           -0.129131\n",
              "Name: Interactions, dtype: float64"
            ]
          },
          "metadata": {},
          "execution_count": 83
        }
      ]
    },
    {
      "cell_type": "code",
      "source": [
        "corr_matrix_l = liberal.corr()\n",
        "corr_matrix_l['Interactions'].sort_values(ascending=False)"
      ],
      "metadata": {
        "colab": {
          "base_uri": "https://localhost:8080/"
        },
        "id": "aOY7qOV8FblO",
        "outputId": "2b415c32-0b1e-4877-ae71-a05b1d21e1a2"
      },
      "execution_count": 84,
      "outputs": [
        {
          "output_type": "execute_result",
          "data": {
            "text/plain": [
              "Interactions               1.000000\n",
              "Number of Upvotes          0.994968\n",
              "Number of Comments         0.512230\n",
              "Controversy Rating         0.183740\n",
              "Upvote to Comment Ratio   -0.203058\n",
              "Percent Upvoted           -0.287204\n",
              "Name: Interactions, dtype: float64"
            ]
          },
          "metadata": {},
          "execution_count": 84
        }
      ]
    },
    {
      "cell_type": "code",
      "source": [
        "corr_matrix_p = politics.corr()\n",
        "corr_matrix_p['Interactions'].sort_values(ascending=False)"
      ],
      "metadata": {
        "colab": {
          "base_uri": "https://localhost:8080/"
        },
        "id": "mDVndK4IFeiy",
        "outputId": "d8dab399-76da-4d20-9727-e35ae2032a2d"
      },
      "execution_count": 85,
      "outputs": [
        {
          "output_type": "execute_result",
          "data": {
            "text/plain": [
              "Interactions               1.000000\n",
              "Number of Upvotes          0.887674\n",
              "Number of Comments         0.165824\n",
              "Controversy Rating         0.034892\n",
              "Upvote to Comment Ratio   -0.098066\n",
              "Percent Upvoted           -0.445705\n",
              "Name: Interactions, dtype: float64"
            ]
          },
          "metadata": {},
          "execution_count": 85
        }
      ]
    },
    {
      "cell_type": "code",
      "source": [
        "corr_matrix_n = news.corr()\n",
        "corr_matrix_n['Interactions'].sort_values(ascending=False)"
      ],
      "metadata": {
        "colab": {
          "base_uri": "https://localhost:8080/"
        },
        "id": "N35xC_4yFjbA",
        "outputId": "a0ae5173-c89d-4661-d12a-f4b102625bbe"
      },
      "execution_count": 86,
      "outputs": [
        {
          "output_type": "execute_result",
          "data": {
            "text/plain": [
              "Interactions               1.000000\n",
              "Number of Upvotes          0.958650\n",
              "Number of Comments         0.435365\n",
              "Controversy Rating         0.246292\n",
              "Upvote to Comment Ratio   -0.226920\n",
              "Percent Upvoted           -0.404414\n",
              "Name: Interactions, dtype: float64"
            ]
          },
          "metadata": {},
          "execution_count": 86
        }
      ]
    },
    {
      "cell_type": "code",
      "source": [
        "corr_matrix_w = worldnews.corr()\n",
        "corr_matrix_w['Interactions'].sort_values(ascending=False)"
      ],
      "metadata": {
        "colab": {
          "base_uri": "https://localhost:8080/"
        },
        "id": "Px-4K52QFnE1",
        "outputId": "66706516-e751-414e-de2e-2299861ec92e"
      },
      "execution_count": 87,
      "outputs": [
        {
          "output_type": "execute_result",
          "data": {
            "text/plain": [
              "Interactions               1.000000\n",
              "Number of Upvotes          0.967351\n",
              "Number of Comments         0.346927\n",
              "Upvote to Comment Ratio    0.010370\n",
              "Controversy Rating        -0.054926\n",
              "Percent Upvoted           -0.205822\n",
              "Name: Interactions, dtype: float64"
            ]
          },
          "metadata": {},
          "execution_count": 87
        }
      ]
    },
    {
      "cell_type": "markdown",
      "source": [
        "After removing outliers:"
      ],
      "metadata": {
        "id": "EL4pJkhXJQ5c"
      }
    },
    {
      "cell_type": "code",
      "source": [
        "corr_matrix_c = remove_outliers(conservative).corr()\n",
        "corr_matrix_c['Interactions'].sort_values(ascending=False)"
      ],
      "metadata": {
        "colab": {
          "base_uri": "https://localhost:8080/"
        },
        "id": "Vy-qGUHsJA4b",
        "outputId": "bd395fd8-e153-4b2c-f890-ff387ef1ee09"
      },
      "execution_count": 88,
      "outputs": [
        {
          "output_type": "execute_result",
          "data": {
            "text/plain": [
              "Interactions               1.000000\n",
              "Number of Upvotes          0.985440\n",
              "Number of Comments         0.682983\n",
              "Controversy Rating         0.181864\n",
              "Upvote to Comment Ratio   -0.051230\n",
              "Percent Upvoted           -0.122071\n",
              "Name: Interactions, dtype: float64"
            ]
          },
          "metadata": {},
          "execution_count": 88
        }
      ]
    },
    {
      "cell_type": "code",
      "source": [
        "corr_matrix_l = remove_outliers(liberal).corr()\n",
        "corr_matrix_l['Interactions'].sort_values(ascending=False)"
      ],
      "metadata": {
        "colab": {
          "base_uri": "https://localhost:8080/"
        },
        "id": "0Nu1_wKPJFg3",
        "outputId": "e76e3d6e-5c75-402b-d7a8-fb8a8ba2b53a"
      },
      "execution_count": 89,
      "outputs": [
        {
          "output_type": "execute_result",
          "data": {
            "text/plain": [
              "Interactions               1.000000\n",
              "Number of Upvotes          0.995999\n",
              "Number of Comments         0.526119\n",
              "Controversy Rating         0.194591\n",
              "Upvote to Comment Ratio   -0.203631\n",
              "Percent Upvoted           -0.324174\n",
              "Name: Interactions, dtype: float64"
            ]
          },
          "metadata": {},
          "execution_count": 89
        }
      ]
    },
    {
      "cell_type": "code",
      "source": [
        "corr_matrix_p = remove_outliers(politics).corr()\n",
        "corr_matrix_p['Interactions'].sort_values(ascending=False)"
      ],
      "metadata": {
        "colab": {
          "base_uri": "https://localhost:8080/"
        },
        "id": "yXOa3VJ5JIGg",
        "outputId": "4a9b81d2-b2e3-4039-c09d-5600baed766a"
      },
      "execution_count": 90,
      "outputs": [
        {
          "output_type": "execute_result",
          "data": {
            "text/plain": [
              "Interactions               1.000000\n",
              "Number of Upvotes          0.906448\n",
              "Number of Comments         0.326630\n",
              "Controversy Rating         0.121503\n",
              "Upvote to Comment Ratio   -0.109060\n",
              "Percent Upvoted           -0.440580\n",
              "Name: Interactions, dtype: float64"
            ]
          },
          "metadata": {},
          "execution_count": 90
        }
      ]
    },
    {
      "cell_type": "code",
      "source": [
        "corr_matrix_n = remove_outliers(news).corr()\n",
        "corr_matrix_n['Interactions'].sort_values(ascending=False)"
      ],
      "metadata": {
        "colab": {
          "base_uri": "https://localhost:8080/"
        },
        "id": "S4SoH72JJMIU",
        "outputId": "ae7f9a21-c8d4-4189-9133-6458266316ad"
      },
      "execution_count": 91,
      "outputs": [
        {
          "output_type": "execute_result",
          "data": {
            "text/plain": [
              "Interactions               1.000000\n",
              "Number of Upvotes          0.965995\n",
              "Number of Comments         0.545760\n",
              "Controversy Rating         0.194981\n",
              "Upvote to Comment Ratio   -0.158331\n",
              "Percent Upvoted           -0.431796\n",
              "Name: Interactions, dtype: float64"
            ]
          },
          "metadata": {},
          "execution_count": 91
        }
      ]
    },
    {
      "cell_type": "code",
      "source": [
        "corr_matrix_w = remove_outliers(worldnews).corr()\n",
        "corr_matrix_w['Interactions'].sort_values(ascending=False)"
      ],
      "metadata": {
        "colab": {
          "base_uri": "https://localhost:8080/"
        },
        "id": "Iwo6vgJZJQHQ",
        "outputId": "db29dff1-1303-4931-9d60-c11094a53bfe"
      },
      "execution_count": 92,
      "outputs": [
        {
          "output_type": "execute_result",
          "data": {
            "text/plain": [
              "Interactions               1.000000\n",
              "Number of Upvotes          0.967185\n",
              "Number of Comments         0.391924\n",
              "Upvote to Comment Ratio   -0.000113\n",
              "Controversy Rating        -0.030026\n",
              "Percent Upvoted           -0.205624\n",
              "Name: Interactions, dtype: float64"
            ]
          },
          "metadata": {},
          "execution_count": 92
        }
      ]
    },
    {
      "cell_type": "markdown",
      "source": [
        "After splitting up the dataset into each individual subreddit, we see very different correlations. We see a weak positive correlation between Interactions and Controversy Rating for the conservative, liberal, news, and politics subreddits. We see a very weak negative correlation in only the worldnews subreddit. After accounting for potential outliers, these trends remain the same for each of the subreddits. "
      ],
      "metadata": {
        "id": "lCQWO8zrJsJG"
      }
    }
  ]
}