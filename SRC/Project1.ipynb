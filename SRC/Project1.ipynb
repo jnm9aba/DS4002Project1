{
 "cells": [
  {
   "cell_type": "code",
   "execution_count": 74,
   "metadata": {},
   "outputs": [],
   "source": [
    "import requests\n",
    "import pandas as pd\n",
    "from configparser import ConfigParser"
   ]
  },
  {
   "cell_type": "code",
   "execution_count": 75,
   "metadata": {},
   "outputs": [],
   "source": [
    "# Credentials\n",
    "\n",
    "# Email: 'ds4002project1@gmail.com'\n",
    "# Email password: 'DS4002Project1'\n",
    "\n",
    "# Reddit username: ds4002project1\n",
    "# Reddit password: DataScienceProject1"
   ]
  },
  {
   "cell_type": "code",
   "execution_count": 76,
   "metadata": {},
   "outputs": [],
   "source": [
    "# Public credentials\n",
    "username = 'ds4002project1'\n",
    "client_id = 'Zv7btbANVbo3H8hOoSjFOw'\n",
    "\n",
    "# Private credentials (will need to secure eventually)\n",
    "pw = 'DataScienceProject1'\n",
    "secret_key = 'PcKxP3QTk-Bc6wCBYXFWXEqsubrAjw'"
   ]
  },
  {
   "cell_type": "code",
   "execution_count": 77,
   "metadata": {},
   "outputs": [],
   "source": [
    "# Ensuring our credentials are valid\n",
    "auth = requests.auth.HTTPBasicAuth(client_id, secret_key)"
   ]
  },
  {
   "cell_type": "code",
   "execution_count": 78,
   "metadata": {},
   "outputs": [],
   "source": [
    "data = {\n",
    "    'grant_type': 'password',\n",
    "    'username': username,\n",
    "    'password': pw\n",
    "}\n",
    "\n",
    "headers = {'User-Agent': 'My DS4002 API'}"
   ]
  },
  {
   "cell_type": "code",
   "execution_count": 79,
   "metadata": {},
   "outputs": [],
   "source": [
    "res = requests.post('https://www.reddit.com/api/v1/access_token', auth=auth, data=data, headers=headers)\n",
    "token = res.json()['access_token']"
   ]
  },
  {
   "cell_type": "code",
   "execution_count": 80,
   "metadata": {},
   "outputs": [],
   "source": [
    "# Authorizing with token\n",
    "headers['Authorization'] = f'bearer {token}'"
   ]
  },
  {
   "cell_type": "code",
   "execution_count": 73,
   "metadata": {},
   "outputs": [
    {
     "ename": "KeyboardInterrupt",
     "evalue": "Interrupted by user",
     "output_type": "error",
     "traceback": [
      "\u001b[1;31m---------------------------------------------------------------------------\u001b[0m",
      "\u001b[1;31mKeyboardInterrupt\u001b[0m                         Traceback (most recent call last)",
      "\u001b[1;32m<ipython-input-73-b5a6c55a396e>\u001b[0m in \u001b[0;36m<module>\u001b[1;34m\u001b[0m\n\u001b[0;32m      1\u001b[0m \u001b[1;31m# r/politics, r/news, r/worldnews, r/conservative, r/liberal\u001b[0m\u001b[1;33m\u001b[0m\u001b[1;33m\u001b[0m\u001b[1;33m\u001b[0m\u001b[0m\n\u001b[1;32m----> 2\u001b[1;33m \u001b[0msub\u001b[0m \u001b[1;33m=\u001b[0m \u001b[0minput\u001b[0m\u001b[1;33m(\u001b[0m\u001b[1;34m'What subreddit would you like to fetch posts from?: '\u001b[0m\u001b[1;33m)\u001b[0m\u001b[1;33m\u001b[0m\u001b[1;33m\u001b[0m\u001b[0m\n\u001b[0m\u001b[0;32m      3\u001b[0m \u001b[0mlimit\u001b[0m \u001b[1;33m=\u001b[0m \u001b[0mint\u001b[0m\u001b[1;33m(\u001b[0m\u001b[0minput\u001b[0m\u001b[1;33m(\u001b[0m\u001b[1;34m'How many posts would you like to retrieve (1-100)?: '\u001b[0m\u001b[1;33m)\u001b[0m\u001b[1;33m)\u001b[0m\u001b[1;33m\u001b[0m\u001b[1;33m\u001b[0m\u001b[0m\n\u001b[0;32m      4\u001b[0m \u001b[0mtime\u001b[0m \u001b[1;33m=\u001b[0m \u001b[0minput\u001b[0m\u001b[1;33m(\u001b[0m\u001b[1;34m'I would like to view the top posts from the past (hour, day, week, month, year, all): '\u001b[0m\u001b[1;33m)\u001b[0m\u001b[1;33m.\u001b[0m\u001b[0mlower\u001b[0m\u001b[1;33m(\u001b[0m\u001b[1;33m)\u001b[0m\u001b[1;33m\u001b[0m\u001b[1;33m\u001b[0m\u001b[0m\n",
      "\u001b[1;32m~\\anaconda3\\lib\\site-packages\\ipykernel\\kernelbase.py\u001b[0m in \u001b[0;36mraw_input\u001b[1;34m(self, prompt)\u001b[0m\n\u001b[0;32m    858\u001b[0m                 \u001b[1;34m\"raw_input was called, but this frontend does not support input requests.\"\u001b[0m\u001b[1;33m\u001b[0m\u001b[1;33m\u001b[0m\u001b[0m\n\u001b[0;32m    859\u001b[0m             )\n\u001b[1;32m--> 860\u001b[1;33m         return self._input_request(str(prompt),\n\u001b[0m\u001b[0;32m    861\u001b[0m             \u001b[0mself\u001b[0m\u001b[1;33m.\u001b[0m\u001b[0m_parent_ident\u001b[0m\u001b[1;33m,\u001b[0m\u001b[1;33m\u001b[0m\u001b[1;33m\u001b[0m\u001b[0m\n\u001b[0;32m    862\u001b[0m             \u001b[0mself\u001b[0m\u001b[1;33m.\u001b[0m\u001b[0m_parent_header\u001b[0m\u001b[1;33m,\u001b[0m\u001b[1;33m\u001b[0m\u001b[1;33m\u001b[0m\u001b[0m\n",
      "\u001b[1;32m~\\anaconda3\\lib\\site-packages\\ipykernel\\kernelbase.py\u001b[0m in \u001b[0;36m_input_request\u001b[1;34m(self, prompt, ident, parent, password)\u001b[0m\n\u001b[0;32m    902\u001b[0m             \u001b[1;32mexcept\u001b[0m \u001b[0mKeyboardInterrupt\u001b[0m\u001b[1;33m:\u001b[0m\u001b[1;33m\u001b[0m\u001b[1;33m\u001b[0m\u001b[0m\n\u001b[0;32m    903\u001b[0m                 \u001b[1;31m# re-raise KeyboardInterrupt, to truncate traceback\u001b[0m\u001b[1;33m\u001b[0m\u001b[1;33m\u001b[0m\u001b[1;33m\u001b[0m\u001b[0m\n\u001b[1;32m--> 904\u001b[1;33m                 \u001b[1;32mraise\u001b[0m \u001b[0mKeyboardInterrupt\u001b[0m\u001b[1;33m(\u001b[0m\u001b[1;34m\"Interrupted by user\"\u001b[0m\u001b[1;33m)\u001b[0m \u001b[1;32mfrom\u001b[0m \u001b[1;32mNone\u001b[0m\u001b[1;33m\u001b[0m\u001b[1;33m\u001b[0m\u001b[0m\n\u001b[0m\u001b[0;32m    905\u001b[0m             \u001b[1;32mexcept\u001b[0m \u001b[0mException\u001b[0m \u001b[1;32mas\u001b[0m \u001b[0me\u001b[0m\u001b[1;33m:\u001b[0m\u001b[1;33m\u001b[0m\u001b[1;33m\u001b[0m\u001b[0m\n\u001b[0;32m    906\u001b[0m                 \u001b[0mself\u001b[0m\u001b[1;33m.\u001b[0m\u001b[0mlog\u001b[0m\u001b[1;33m.\u001b[0m\u001b[0mwarning\u001b[0m\u001b[1;33m(\u001b[0m\u001b[1;34m\"Invalid Message:\"\u001b[0m\u001b[1;33m,\u001b[0m \u001b[0mexc_info\u001b[0m\u001b[1;33m=\u001b[0m\u001b[1;32mTrue\u001b[0m\u001b[1;33m)\u001b[0m\u001b[1;33m\u001b[0m\u001b[1;33m\u001b[0m\u001b[0m\n",
      "\u001b[1;31mKeyboardInterrupt\u001b[0m: Interrupted by user"
     ]
    }
   ],
   "source": [
    "# r/politics, r/news, r/worldnews, r/conservative, r/liberal\n",
    "sub = input('What subreddit would you like to fetch posts from?: ')\n",
    "limit = int(input('How many posts would you like to retrieve (1-100)?: '))\n",
    "time = input('I would like to view the top posts from the past (hour, day, week, month, year, all): ').lower()"
   ]
  },
  {
   "cell_type": "code",
   "execution_count": 9,
   "metadata": {},
   "outputs": [],
   "source": [
    "# Requesting data as a json\n",
    "try:\n",
    "    r = requests.get(f'https://oauth.reddit.com/r/{sub}/top', headers=headers, params={'t': time, 'limit': limit}).json()\n",
    "except:\n",
    "    print('Unable to fetch posts')"
   ]
  },
  {
   "cell_type": "code",
   "execution_count": 10,
   "metadata": {},
   "outputs": [
    {
     "data": {
      "text/plain": [
       "100"
      ]
     },
     "execution_count": 10,
     "metadata": {},
     "output_type": "execute_result"
    }
   ],
   "source": [
    "post_list = r['data']['children']\n",
    "len(post_list) # post_list is a list with each element corresponding to a post"
   ]
  },
  {
   "cell_type": "code",
   "execution_count": 11,
   "metadata": {},
   "outputs": [],
   "source": [
    "# Creating a blank dataframe (pandas library) which we can populate with our data\n",
    "df = pd.DataFrame(data={'Title': [], 'ID': [], 'Number of Upvotes': [], 'Percent Upvoted': [], 'Number of Comments': [], \n",
    "                        'Link': []}).astype({\"Number of Upvotes\": int, \"Number of Comments\": int})"
   ]
  },
  {
   "cell_type": "code",
   "execution_count": 12,
   "metadata": {},
   "outputs": [
    {
     "data": {
      "text/html": [
       "<div>\n",
       "<style scoped>\n",
       "    .dataframe tbody tr th:only-of-type {\n",
       "        vertical-align: middle;\n",
       "    }\n",
       "\n",
       "    .dataframe tbody tr th {\n",
       "        vertical-align: top;\n",
       "    }\n",
       "\n",
       "    .dataframe thead th {\n",
       "        text-align: right;\n",
       "    }\n",
       "</style>\n",
       "<table border=\"1\" class=\"dataframe\">\n",
       "  <thead>\n",
       "    <tr style=\"text-align: right;\">\n",
       "      <th></th>\n",
       "      <th>Title</th>\n",
       "      <th>ID</th>\n",
       "      <th>Number of Upvotes</th>\n",
       "      <th>Percent Upvoted</th>\n",
       "      <th>Number of Comments</th>\n",
       "      <th>Link</th>\n",
       "    </tr>\n",
       "  </thead>\n",
       "  <tbody>\n",
       "    <tr>\n",
       "      <th>0</th>\n",
       "      <td>Pro-Trump Election Deniers Lose in Nebraska Re...</td>\n",
       "      <td>t3_undhn8</td>\n",
       "      <td>1083</td>\n",
       "      <td>0.95</td>\n",
       "      <td>76</td>\n",
       "      <td>https://www.bloomberg.com/news/articles/2022-0...</td>\n",
       "    </tr>\n",
       "    <tr>\n",
       "      <th>1</th>\n",
       "      <td>Most Americans support using the popular vote ...</td>\n",
       "      <td>t3_wku42m</td>\n",
       "      <td>970</td>\n",
       "      <td>0.95</td>\n",
       "      <td>152</td>\n",
       "      <td>https://www.npr.org/2022/08/10/1116688726/most...</td>\n",
       "    </tr>\n",
       "    <tr>\n",
       "      <th>2</th>\n",
       "      <td>The Republican Party Needs To Be Abolished, No...</td>\n",
       "      <td>t3_uyril3</td>\n",
       "      <td>881</td>\n",
       "      <td>0.90</td>\n",
       "      <td>221</td>\n",
       "      <td>https://www.msnbc.com/msnbc/amp/rcna30497</td>\n",
       "    </tr>\n",
       "    <tr>\n",
       "      <th>3</th>\n",
       "      <td>Dems Should Sue Now To Stop Trump Run Under Co...</td>\n",
       "      <td>t3_w21mou</td>\n",
       "      <td>772</td>\n",
       "      <td>0.95</td>\n",
       "      <td>85</td>\n",
       "      <td>https://www.huffpost.com/entry/14th-amendment-...</td>\n",
       "    </tr>\n",
       "    <tr>\n",
       "      <th>4</th>\n",
       "      <td>Bill Barr Reportedly Burns His Bridges in Scat...</td>\n",
       "      <td>t3_t2q9eo</td>\n",
       "      <td>725</td>\n",
       "      <td>0.98</td>\n",
       "      <td>92</td>\n",
       "      <td>https://www.mediaite.com/trump/bill-barr-repor...</td>\n",
       "    </tr>\n",
       "  </tbody>\n",
       "</table>\n",
       "</div>"
      ],
      "text/plain": [
       "                                               Title         ID  \\\n",
       "0  Pro-Trump Election Deniers Lose in Nebraska Re...  t3_undhn8   \n",
       "1  Most Americans support using the popular vote ...  t3_wku42m   \n",
       "2  The Republican Party Needs To Be Abolished, No...  t3_uyril3   \n",
       "3  Dems Should Sue Now To Stop Trump Run Under Co...  t3_w21mou   \n",
       "4  Bill Barr Reportedly Burns His Bridges in Scat...  t3_t2q9eo   \n",
       "\n",
       "   Number of Upvotes  Percent Upvoted  Number of Comments  \\\n",
       "0               1083             0.95                  76   \n",
       "1                970             0.95                 152   \n",
       "2                881             0.90                 221   \n",
       "3                772             0.95                  85   \n",
       "4                725             0.98                  92   \n",
       "\n",
       "                                                Link  \n",
       "0  https://www.bloomberg.com/news/articles/2022-0...  \n",
       "1  https://www.npr.org/2022/08/10/1116688726/most...  \n",
       "2          https://www.msnbc.com/msnbc/amp/rcna30497  \n",
       "3  https://www.huffpost.com/entry/14th-amendment-...  \n",
       "4  https://www.mediaite.com/trump/bill-barr-repor...  "
      ]
     },
     "execution_count": 12,
     "metadata": {},
     "output_type": "execute_result"
    }
   ],
   "source": [
    "for i in range(0, len(post_list)): # Iterate through the number of posts specified by user\n",
    "    data = post_list[i]['data']\n",
    "    # For each post grab the relevant data\n",
    "    if 'url_overridden_by_dest' in data.keys(): # If there is a url to an article provided we want it\n",
    "        temp_df = pd.DataFrame(data={'Title': data['title'], 'ID': data['name'], 'Number of Upvotes': int(data['score']), \n",
    "                                     'Percent Upvoted': data['upvote_ratio'], \n",
    "                                     'Number of Comments': int(data['num_comments']), \n",
    "                                     'Link': data['url_overridden_by_dest']}, index=[0])\n",
    "    else: # If no url\n",
    "        temp_df = pd.DataFrame(data={'Title': data['title'], 'ID': data['name'], 'Number of Upvotes': int(data['score']), \n",
    "                                     'Percent Upvoted': data['upvote_ratio'], \n",
    "                                     'Number of Comments': int(data['num_comments']), \n",
    "                                     'Link': 'None'}, index=[0])\n",
    "    df = df.append(temp_df) # This is kinda janky there's probably a better way to do this\n",
    "df = df.reset_index(drop=True)\n",
    "df.head(5) # Here's what the beginning of our dataframe looks like"
   ]
  },
  {
   "cell_type": "code",
   "execution_count": 13,
   "metadata": {},
   "outputs": [
    {
     "data": {
      "text/html": [
       "<div>\n",
       "<style scoped>\n",
       "    .dataframe tbody tr th:only-of-type {\n",
       "        vertical-align: middle;\n",
       "    }\n",
       "\n",
       "    .dataframe tbody tr th {\n",
       "        vertical-align: top;\n",
       "    }\n",
       "\n",
       "    .dataframe thead th {\n",
       "        text-align: right;\n",
       "    }\n",
       "</style>\n",
       "<table border=\"1\" class=\"dataframe\">\n",
       "  <thead>\n",
       "    <tr style=\"text-align: right;\">\n",
       "      <th></th>\n",
       "      <th>Title</th>\n",
       "      <th>ID</th>\n",
       "      <th>Number of Upvotes</th>\n",
       "      <th>Percent Upvoted</th>\n",
       "      <th>Number of Comments</th>\n",
       "      <th>Link</th>\n",
       "      <th>Upvote to Comment Ratio</th>\n",
       "      <th>Controversy Rating</th>\n",
       "    </tr>\n",
       "  </thead>\n",
       "  <tbody>\n",
       "    <tr>\n",
       "      <th>0</th>\n",
       "      <td>Pro-Trump Election Deniers Lose in Nebraska Re...</td>\n",
       "      <td>t3_undhn8</td>\n",
       "      <td>1083</td>\n",
       "      <td>0.95</td>\n",
       "      <td>76</td>\n",
       "      <td>https://www.bloomberg.com/news/articles/2022-0...</td>\n",
       "      <td>14.25</td>\n",
       "      <td>0.073869</td>\n",
       "    </tr>\n",
       "    <tr>\n",
       "      <th>1</th>\n",
       "      <td>Most Americans support using the popular vote ...</td>\n",
       "      <td>t3_wku42m</td>\n",
       "      <td>970</td>\n",
       "      <td>0.95</td>\n",
       "      <td>152</td>\n",
       "      <td>https://www.npr.org/2022/08/10/1116688726/most...</td>\n",
       "      <td>6.38</td>\n",
       "      <td>0.164989</td>\n",
       "    </tr>\n",
       "    <tr>\n",
       "      <th>2</th>\n",
       "      <td>The Republican Party Needs To Be Abolished, No...</td>\n",
       "      <td>t3_uyril3</td>\n",
       "      <td>881</td>\n",
       "      <td>0.90</td>\n",
       "      <td>221</td>\n",
       "      <td>https://www.msnbc.com/msnbc/amp/rcna30497</td>\n",
       "      <td>3.99</td>\n",
       "      <td>0.278474</td>\n",
       "    </tr>\n",
       "    <tr>\n",
       "      <th>3</th>\n",
       "      <td>Dems Should Sue Now To Stop Trump Run Under Co...</td>\n",
       "      <td>t3_w21mou</td>\n",
       "      <td>772</td>\n",
       "      <td>0.95</td>\n",
       "      <td>85</td>\n",
       "      <td>https://www.huffpost.com/entry/14th-amendment-...</td>\n",
       "      <td>9.08</td>\n",
       "      <td>0.115929</td>\n",
       "    </tr>\n",
       "    <tr>\n",
       "      <th>4</th>\n",
       "      <td>Bill Barr Reportedly Burns His Bridges in Scat...</td>\n",
       "      <td>t3_t2q9eo</td>\n",
       "      <td>725</td>\n",
       "      <td>0.98</td>\n",
       "      <td>92</td>\n",
       "      <td>https://www.mediaite.com/trump/bill-barr-repor...</td>\n",
       "      <td>7.88</td>\n",
       "      <td>0.129493</td>\n",
       "    </tr>\n",
       "    <tr>\n",
       "      <th>...</th>\n",
       "      <td>...</td>\n",
       "      <td>...</td>\n",
       "      <td>...</td>\n",
       "      <td>...</td>\n",
       "      <td>...</td>\n",
       "      <td>...</td>\n",
       "      <td>...</td>\n",
       "      <td>...</td>\n",
       "    </tr>\n",
       "    <tr>\n",
       "      <th>95</th>\n",
       "      <td>Many Believe It's Time To Do Away With Lawmake...</td>\n",
       "      <td>t3_pv3rt5</td>\n",
       "      <td>433</td>\n",
       "      <td>1.00</td>\n",
       "      <td>33</td>\n",
       "      <td>https://www.npr.org/2021/09/22/1039565467/many...</td>\n",
       "      <td>13.12</td>\n",
       "      <td>0.076220</td>\n",
       "    </tr>\n",
       "    <tr>\n",
       "      <th>96</th>\n",
       "      <td>Trump, Secret Service agent confirmed main ele...</td>\n",
       "      <td>t3_vng3x5</td>\n",
       "      <td>436</td>\n",
       "      <td>0.96</td>\n",
       "      <td>54</td>\n",
       "      <td>https://theweek.com/donald-trump/1014743/trump...</td>\n",
       "      <td>8.07</td>\n",
       "      <td>0.129079</td>\n",
       "    </tr>\n",
       "    <tr>\n",
       "      <th>97</th>\n",
       "      <td>Donald Trump Launched His Social Media Platfor...</td>\n",
       "      <td>t3_qeurbs</td>\n",
       "      <td>432</td>\n",
       "      <td>0.97</td>\n",
       "      <td>70</td>\n",
       "      <td>https://www.giantfreakinrobot.com/tech/donald-...</td>\n",
       "      <td>6.17</td>\n",
       "      <td>0.167087</td>\n",
       "    </tr>\n",
       "    <tr>\n",
       "      <th>98</th>\n",
       "      <td>POLITICS - NEWS ANALYSIS WaPo Bombshell: Trump...</td>\n",
       "      <td>t3_x05tbc</td>\n",
       "      <td>430</td>\n",
       "      <td>0.97</td>\n",
       "      <td>77</td>\n",
       "      <td>None</td>\n",
       "      <td>5.58</td>\n",
       "      <td>0.184754</td>\n",
       "    </tr>\n",
       "    <tr>\n",
       "      <th>99</th>\n",
       "      <td>19-year-old turns Gaetz insult into $115K abor...</td>\n",
       "      <td>t3_w9ass2</td>\n",
       "      <td>424</td>\n",
       "      <td>0.97</td>\n",
       "      <td>11</td>\n",
       "      <td>https://www.washingtonpost.com/politics/2022/0...</td>\n",
       "      <td>38.55</td>\n",
       "      <td>0.026743</td>\n",
       "    </tr>\n",
       "  </tbody>\n",
       "</table>\n",
       "<p>100 rows × 8 columns</p>\n",
       "</div>"
      ],
      "text/plain": [
       "                                                Title         ID  \\\n",
       "0   Pro-Trump Election Deniers Lose in Nebraska Re...  t3_undhn8   \n",
       "1   Most Americans support using the popular vote ...  t3_wku42m   \n",
       "2   The Republican Party Needs To Be Abolished, No...  t3_uyril3   \n",
       "3   Dems Should Sue Now To Stop Trump Run Under Co...  t3_w21mou   \n",
       "4   Bill Barr Reportedly Burns His Bridges in Scat...  t3_t2q9eo   \n",
       "..                                                ...        ...   \n",
       "95  Many Believe It's Time To Do Away With Lawmake...  t3_pv3rt5   \n",
       "96  Trump, Secret Service agent confirmed main ele...  t3_vng3x5   \n",
       "97  Donald Trump Launched His Social Media Platfor...  t3_qeurbs   \n",
       "98  POLITICS - NEWS ANALYSIS WaPo Bombshell: Trump...  t3_x05tbc   \n",
       "99  19-year-old turns Gaetz insult into $115K abor...  t3_w9ass2   \n",
       "\n",
       "    Number of Upvotes  Percent Upvoted  Number of Comments  \\\n",
       "0                1083             0.95                  76   \n",
       "1                 970             0.95                 152   \n",
       "2                 881             0.90                 221   \n",
       "3                 772             0.95                  85   \n",
       "4                 725             0.98                  92   \n",
       "..                ...              ...                 ...   \n",
       "95                433             1.00                  33   \n",
       "96                436             0.96                  54   \n",
       "97                432             0.97                  70   \n",
       "98                430             0.97                  77   \n",
       "99                424             0.97                  11   \n",
       "\n",
       "                                                 Link  \\\n",
       "0   https://www.bloomberg.com/news/articles/2022-0...   \n",
       "1   https://www.npr.org/2022/08/10/1116688726/most...   \n",
       "2           https://www.msnbc.com/msnbc/amp/rcna30497   \n",
       "3   https://www.huffpost.com/entry/14th-amendment-...   \n",
       "4   https://www.mediaite.com/trump/bill-barr-repor...   \n",
       "..                                                ...   \n",
       "95  https://www.npr.org/2021/09/22/1039565467/many...   \n",
       "96  https://theweek.com/donald-trump/1014743/trump...   \n",
       "97  https://www.giantfreakinrobot.com/tech/donald-...   \n",
       "98                                               None   \n",
       "99  https://www.washingtonpost.com/politics/2022/0...   \n",
       "\n",
       "    Upvote to Comment Ratio  Controversy Rating  \n",
       "0                     14.25            0.073869  \n",
       "1                      6.38            0.164989  \n",
       "2                      3.99            0.278474  \n",
       "3                      9.08            0.115929  \n",
       "4                      7.88            0.129493  \n",
       "..                      ...                 ...  \n",
       "95                    13.12            0.076220  \n",
       "96                     8.07            0.129079  \n",
       "97                     6.17            0.167087  \n",
       "98                     5.58            0.184754  \n",
       "99                    38.55            0.026743  \n",
       "\n",
       "[100 rows x 8 columns]"
      ]
     },
     "execution_count": 13,
     "metadata": {},
     "output_type": "execute_result"
    }
   ],
   "source": [
    "# Messing around with potential quantitative metrics\n",
    "df['Upvote to Comment Ratio'] = round(df['Number of Upvotes'] / df['Number of Comments'], 2)\n",
    "df['Controversy Rating'] = 1 / (df['Percent Upvoted'] * df['Upvote to Comment Ratio'])\n",
    "df"
   ]
  },
  {
   "cell_type": "code",
   "execution_count": 14,
   "metadata": {},
   "outputs": [],
   "source": [
    "# The rest is trying to figure out the commenting"
   ]
  },
  {
   "cell_type": "code",
   "execution_count": 15,
   "metadata": {},
   "outputs": [
    {
     "data": {
      "text/plain": [
       "'t3_undhn8'"
      ]
     },
     "execution_count": 15,
     "metadata": {},
     "output_type": "execute_result"
    }
   ],
   "source": [
    "# Each \"thing\" (post, subreddit, user, etc.) has a unique ID. The number after the t indicates what type of thing\n",
    "# We need to get the post ID to search through its comments. So for example here's the ID of the first on in the df\n",
    "post_list[0]['data']['name']"
   ]
  },
  {
   "cell_type": "code",
   "execution_count": 16,
   "metadata": {},
   "outputs": [
    {
     "data": {
      "text/plain": [
       "'Pro-Trump Election Deniers Lose in Nebraska Republican Primaries'"
      ]
     },
     "execution_count": 16,
     "metadata": {},
     "output_type": "execute_result"
    }
   ],
   "source": [
    "post_list[0]['data']['title']"
   ]
  },
  {
   "cell_type": "code",
   "execution_count": 17,
   "metadata": {},
   "outputs": [],
   "source": [
    "# One post from the politcs subreddit had the id 't3_x8y56x'. So we can pass the stuff after the underscore into\n",
    "# the URL like this\n",
    "r = requests.get(f'https://oauth.reddit.com/r/politics/comments/x8y56x', headers=headers, params={'sort': 'top'}).json()"
   ]
  },
  {
   "cell_type": "code",
   "execution_count": 18,
   "metadata": {},
   "outputs": [],
   "source": [
    "#df.to_csv('liberal100year.csv', index=False)"
   ]
  },
  {
   "cell_type": "code",
   "execution_count": 19,
   "metadata": {},
   "outputs": [],
   "source": [
    "# PROCESSING COMMENTS"
   ]
  },
  {
   "cell_type": "code",
   "execution_count": 81,
   "metadata": {},
   "outputs": [],
   "source": [
    "def get_comments(df, filename, sub_name, sub_has_mod, num_posts=100, num_comments=10):\n",
    "    comment_list = []\n",
    "    for i in range(0, num_posts):\n",
    "        post_id = df.iloc[i]['ID'][3:]\n",
    "        r = requests.get(f'https://oauth.reddit.com/r/{sub_name}/comments/{post_id}', headers=headers, params={'sort': 'top'}).json()\n",
    "        for j in range(int(sub_has_mod), num_comments + int(sub_has_mod)): # Exclude automated mod comment if present\n",
    "            comment_text = r[1]['data']['children'][j]['data']['body']\n",
    "            comment_text = comment_text.replace('\\n', '')\n",
    "            comment_list.append(comment_text)\n",
    "    print(len(comment_list))\n",
    "    with open(filename, 'w', encoding=\"utf-8\") as f:\n",
    "        for comment in comment_list:\n",
    "            f.write(comment)\n",
    "            f.write('\\n')\n",
    "    f.close()\n",
    "    return True"
   ]
  },
  {
   "cell_type": "code",
   "execution_count": 82,
   "metadata": {},
   "outputs": [],
   "source": [
    "# politics_df = pd.read_csv('politics100year.csv')\n",
    "news_df = pd.read_csv('news100year.csv')\n",
    "# worldnews_df = pd.read_csv('worldnews100year.csv')\n",
    "# conservative_df = pd.read_csv('conservative100year.csv')\n",
    "# liberal_df = pd.read_csv('liberal100year.csv')"
   ]
  },
  {
   "cell_type": "code",
   "execution_count": 83,
   "metadata": {},
   "outputs": [
    {
     "name": "stdout",
     "output_type": "stream",
     "text": [
      "100\n"
     ]
    },
    {
     "data": {
      "text/plain": [
       "True"
      ]
     },
     "execution_count": 83,
     "metadata": {},
     "output_type": "execute_result"
    }
   ],
   "source": [
    "get_comments(news_df, 'news1010.txt', 'news', False, 10, 10)"
   ]
  },
  {
   "cell_type": "code",
   "execution_count": 1,
   "metadata": {},
   "outputs": [],
   "source": [
    "# SENTIMENT ANALYSIS"
   ]
  },
  {
   "cell_type": "code",
   "execution_count": 11,
   "metadata": {},
   "outputs": [
    {
     "name": "stdout",
     "output_type": "stream",
     "text": [
      "Requirement already satisfied: vaderSentiment in c:\\users\\frenc\\anaconda3\\lib\\site-packages (3.3.2)\n",
      "Requirement already satisfied: requests in c:\\users\\frenc\\anaconda3\\lib\\site-packages (from vaderSentiment) (2.20.1)\n",
      "Requirement already satisfied: chardet<3.1.0,>=3.0.2 in c:\\users\\frenc\\anaconda3\\lib\\site-packages (from requests->vaderSentiment) (3.0.4)\n",
      "Requirement already satisfied: urllib3<1.25,>=1.21.1 in c:\\users\\frenc\\anaconda3\\lib\\site-packages (from requests->vaderSentiment) (1.24.3)\n",
      "Requirement already satisfied: certifi>=2017.4.17 in c:\\users\\frenc\\anaconda3\\lib\\site-packages (from requests->vaderSentiment) (2020.6.20)\n",
      "Requirement already satisfied: idna<2.8,>=2.5 in c:\\users\\frenc\\anaconda3\\lib\\site-packages (from requests->vaderSentiment) (2.7)\n"
     ]
    }
   ],
   "source": [
    "!pip install vaderSentiment\n",
    "from vaderSentiment.vaderSentiment import SentimentIntensityAnalyzer"
   ]
  },
  {
   "cell_type": "code",
   "execution_count": 25,
   "metadata": {},
   "outputs": [],
   "source": [
    "def sentiment_vader(sentence):\n",
    "    # https://towardsdatascience.com/the-most-favorable-pre-trained-sentiment-classifiers-in-python-9107c06442c6\n",
    "    \n",
    "    # The compound score is computed by summing the valence scores of each word in the lexicon, \n",
    "    # adjusted according to the rules, and then normalized to be between -1 (most extreme negative) and 1 \n",
    "    # (most extreme positive). This is the most useful metric if you want a single measure of sentiment for a \n",
    "    # given sentence.\n",
    "\n",
    "    # Create a SentimentIntensityAnalyzer object.\n",
    "    sid_obj = SentimentIntensityAnalyzer()\n",
    "\n",
    "    sentiment_dict = sid_obj.polarity_scores(sentence)\n",
    "    compound = sentiment_dict['compound']\n",
    "  \n",
    "    return compound"
   ]
  },
  {
   "cell_type": "code",
   "execution_count": 26,
   "metadata": {},
   "outputs": [
    {
     "data": {
      "text/plain": [
       "0.8442"
      ]
     },
     "execution_count": 26,
     "metadata": {},
     "output_type": "execute_result"
    }
   ],
   "source": [
    "sentiment_vader('This is a great, happy sentence')"
   ]
  },
  {
   "cell_type": "code",
   "execution_count": 90,
   "metadata": {},
   "outputs": [],
   "source": [
    "all_comments = []\n",
    "with open('liberal1010.txt', encoding=\"utf-8\") as f:\n",
    "    for line in f:\n",
    "        all_comments.append(line[:-1])"
   ]
  },
  {
   "cell_type": "code",
   "execution_count": 91,
   "metadata": {},
   "outputs": [
    {
     "name": "stdout",
     "output_type": "stream",
     "text": [
      "0.11\n",
      "0.01\n",
      "0.15\n",
      "0.12\n",
      "-0.4\n",
      "-0.18\n",
      "-0.05\n",
      "-0.22\n",
      "0.11\n",
      "0.07\n"
     ]
    }
   ],
   "source": [
    "temp_list = []\n",
    "for comment in all_comments:\n",
    "    temp_list.append(sentiment_vader(comment))\n",
    "    if len(temp_list) == 10:\n",
    "        print(round((sum(temp_list)/10), 2))\n",
    "        temp_list = []"
   ]
  },
  {
   "cell_type": "code",
   "execution_count": null,
   "metadata": {},
   "outputs": [],
   "source": []
  }
 ],
 "metadata": {
  "kernelspec": {
   "display_name": "Python 3",
   "language": "python",
   "name": "python3"
  },
  "language_info": {
   "codemirror_mode": {
    "name": "ipython",
    "version": 3
   },
   "file_extension": ".py",
   "mimetype": "text/x-python",
   "name": "python",
   "nbconvert_exporter": "python",
   "pygments_lexer": "ipython3",
   "version": "3.8.5"
  }
 },
 "nbformat": 4,
 "nbformat_minor": 4
}
